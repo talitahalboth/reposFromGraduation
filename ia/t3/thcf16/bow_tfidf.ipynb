{
 "cells": [
  {
   "cell_type": "code",
   "execution_count": 3,
   "metadata": {},
   "outputs": [
    {
     "output_type": "stream",
     "name": "stdout",
     "text": [
      "hey\n"
     ]
    }
   ],
   "source": [
    "import pandas as pd\n",
    "from sklearn.model_selection import train_test_split\n",
    "from sklearn.feature_extraction.text import CountVectorizer, TfidfTransformer\n",
    "from sklearn.neural_network import MLPClassifier\n",
    "from sklearn.metrics import f1_score\n",
    "import re\n",
    "import statistics \n",
    "import matplotlib.pyplot as plt\n",
    "from scipy import stats\n",
    "\n",
    "print(\"hey\")"
   ]
  },
  {
   "cell_type": "code",
   "execution_count": 4,
   "metadata": {},
   "outputs": [],
   "source": [
    "# removeMostUsed tells if words used more than the provided percentage should be removed.\n",
    "# if false, words used less then the percentage should be removed\n",
    "def removeWords(dataset, removeMostUsed=True, percentage=0.5):\n",
    "    numberEntries = len(dataset)\n",
    "    neededAmount = numberEntries * percentage\n",
    "    \n",
    "    \n",
    "    vocab = {}\n",
    "    for text in dataset:\n",
    "        rejex = re.compile('<.*?>')\n",
    "        text = rejex.sub('', text)\n",
    "        thisVocab = {}\n",
    "        for word in re.split('\\W+',text):\n",
    "            # text.split(\" \").split(\"-\"):\n",
    "            regex = re.compile(\"[-'[:alpha:]0-9]\")\n",
    "            newWord = regex.sub('', word.lower())\n",
    "            if(len(newWord)):\n",
    "                if (newWord not in thisVocab):\n",
    "                    thisVocab[newWord]=1\n",
    "                    if (newWord not in vocab):\n",
    "                        vocab[newWord]=1\n",
    "                    else:\n",
    "                        vocab[newWord]+=1\n",
    "    # accedp only words used the needed amount or less\n",
    "    if (removeMostUsed == True):\n",
    "        newVocab = dict((k, v) for k, v in vocab.items() if v < neededAmount)\n",
    "    # accedp only words used the needed amount or more\n",
    "    else:\n",
    "        newVocab = dict((k, v) for k, v in vocab.items() if v > neededAmount)\n",
    "    newVocab = sorted(newVocab)\n",
    "    ret = {}\n",
    "    for word in vocab:\n",
    "        if word in newVocab:\n",
    "            ret[word] = newVocab.index(word)\n",
    "\n",
    "\n",
    "    return ret  \n",
    "\n"
   ]
  },
  {
   "cell_type": "code",
   "execution_count": 5,
   "metadata": {},
   "outputs": [],
   "source": [
    "def runMultipleTimes(dataset):\n",
    "    f = open(\"bow_tfidf_1000_3.txt\", \"w\")\n",
    "    percentageAndMostused = [[True, 1.0], [True, .9], [True, .8], [True, .7], [False, .3], [False, .2], [False, .1]]\n",
    "    # percentageAndMostused2 = [[ True, 1.0, True], [ True, 1.0, False], [ True, .9, True], [ True, .9, False], [ True, .8, True], [ True, .8, False]]\n",
    "\n",
    "    avgScores = []\n",
    "    allScores = []\n",
    "    sdScores = []\n",
    "    avgF1Scores = []\n",
    "    sdF1Scoress = []\n",
    "    allF1Scores = []\n",
    "\n",
    "    \n",
    "    allLoss = []\n",
    "\n",
    "    for elem in percentageAndMostused:\n",
    "        # count = None\n",
    "        # if (elem[2]):\n",
    "        vocab = removeWords(dataset.review, removeMostUsed=elem[0], percentage=elem[1])\n",
    "        count = CountVectorizer(vocabulary=vocab )\n",
    "        # else:\n",
    "        # if (elem[0] == True):\n",
    "        #     count = CountVectorizer(max_df=elem[1])\n",
    "        # else:\n",
    "        #     count = CountVectorizer(min_df=elem[1])\n",
    "\n",
    "        X = count.fit_transform(dataset['review'])\n",
    "        tfidf = TfidfTransformer()\n",
    "        X = tfidf.fit_transform(X)\n",
    "        \n",
    "        avgScore = 0\n",
    "        avgF1Score = 0\n",
    "        count = 30\n",
    "        scores = []\n",
    "        f1scores = []\n",
    "        loss = []\n",
    "        print(elem)\n",
    "\n",
    "        for x in range(count):\n",
    "            X_train, X_test, y_train, y_test = train_test_split(X, dataset['sentiment'], test_size=0.33)\n",
    "            model = MLPClassifier(max_iter=300)\n",
    "            model.fit(X_train, y_train)\n",
    "            scores.append(model.score(X_test, y_test))\n",
    "            y_pred = model.predict(X_test)\n",
    "            f1scores.append(f1_score(y_test, y_pred, average='weighted'))\n",
    "            loss.append(model.loss_)\n",
    "            # print(scores[-1])\n",
    "            \n",
    "        avgScore = statistics.mean(scores)\n",
    "        allScores.append(scores)\n",
    "        avgF1Score = statistics.mean(f1scores)\n",
    "        allF1Scores.append(f1scores)\n",
    "\n",
    "        sdScore = statistics.stdev(scores)\n",
    "        sdF1Score = statistics.stdev(scores)\n",
    "\n",
    "        avgScores.append(avgScore)\n",
    "        avgF1Scores.append(avgF1Score)\n",
    "        sdScores.append(sdScore)\n",
    "        sdF1Scoress.append(sdF1Score)\n",
    "\n",
    "        allLoss.append(loss)\n",
    "        avgLoss = statistics.mean(loss)\n",
    "        sdLoss = statistics.stdev(loss)\n",
    "\n",
    "        # if (elem[2]):\n",
    "        #     f.write(\"mine\\n\")\n",
    "        # else:\n",
    "        #     f.write(\"sklearn\\n\")\n",
    "        f.write(\"most used: \" + str(elem[0]) + '\\n')\n",
    "        f.write(\"rate \" + str(elem[1]) + '\\n\\n')\n",
    "\n",
    "        f.write(\"Average Score \" + str(avgScore) + '\\n')\n",
    "        f.write(\"Score sd \" + str(sdScore) + '\\n')\n",
    "        f.write(\"All Scores\" + str(scores) + '\\n\\n')\n",
    "\n",
    "        f.write(\"Average Loss \" + str(avgLoss) + '\\n')\n",
    "        f.write(\"Loss sd \" + str(sdLoss) + '\\n')\n",
    "        f.write(\"All losses\" + str(loss) + '\\n\\n')\n",
    "\n",
    "        f.write(\"Average F1Score \" + str(avgF1Score) + '\\n')\n",
    "        f.write(\"F1Score sd \" + str(sdF1Score) + '\\n')\n",
    "        f.write(\"All F1 Scores\" + str(f1scores) + '\\n\\n\\n')\n",
    "    \n",
    "    figScore, axScore = plt.subplots()\n",
    "    axScore.set_title('Scores')\n",
    "    axScore.boxplot(allScores)\n",
    "    legend = [\"All Words\", \"rm 90% most used\", \"rm 80% most used\", \"rm 70% most used\", \"rm 30% least usesd\", \"rm 20% least usesd\", \"rm 10% least usesd\"]\n",
    "\n",
    "    xTicks = []\n",
    "    for i in range(1, len(avgScores)+1):\n",
    "        xTicks.append(i)\n",
    "    x = xTicks\n",
    "    plt.xticks(x, legend, rotation=45)\n",
    "    plt.title('Scores')\n",
    "    plt.show()\n",
    "    \n",
    "    figF1Score, axF1Score = plt.subplots()\n",
    "    axF1Score.set_title('F1 Scores')\n",
    "    axF1Score.boxplot(allF1Scores)\n",
    "    \n",
    "    plt.xticks(x, legend, rotation=45)\n",
    "    plt.title('F1 Scores')\n",
    "    plt.show()\n",
    "    \n",
    "    figLoss, axLoss = plt.subplots()\n",
    "    axLoss.set_title('Losses')\n",
    "    axLoss.boxplot(allLoss)\n",
    "    plt.xticks(x, legend, rotation=45)\n",
    "    plt.title('Loss')\n",
    "    plt.show()\n",
    "\n",
    "    for i in range(1, len(allScores)):\n",
    "        # alternative{‘two-sided’, ‘less’, ‘greater’}, optional\n",
    "        print(legend[0], legend[i], statistics.mean(allScores[0]), statistics.mean(allScores[1]))\n",
    "        print(stats.ttest_ind(allScores[0], allScores[i], equal_var=False))\n",
    "\n"
   ]
  },
  {
   "cell_type": "code",
   "execution_count": 14,
   "metadata": {
    "tags": []
   },
   "outputs": [],
   "source": [
    "dataset = pd.read_csv('datasets/imdb.csv')\n",
    "dataset.head()\n",
    "dataset = dataset[:1000]\n",
    "# runMultipleTimes(dataset)\n",
    "vocab = removeWords(dataset.review, removeMostUsed=True, percentage=.005)\n"
   ]
  },
  {
   "cell_type": "code",
   "execution_count": 5,
   "metadata": {
    "tags": []
   },
   "outputs": [
    {
     "output_type": "error",
     "ename": "NameError",
     "evalue": "name 'vocab' is not defined",
     "traceback": [
      "\u001b[1;31m---------------------------------------------------------------------------\u001b[0m",
      "\u001b[1;31mNameError\u001b[0m                                 Traceback (most recent call last)",
      "\u001b[1;32m<ipython-input-5-0d5d3bb9df03>\u001b[0m in \u001b[0;36m<module>\u001b[1;34m\u001b[0m\n\u001b[0;32m      1\u001b[0m \u001b[0mcount\u001b[0m \u001b[1;33m=\u001b[0m \u001b[0mCountVectorizer\u001b[0m\u001b[1;33m(\u001b[0m\u001b[0mmax_df\u001b[0m\u001b[1;33m=\u001b[0m\u001b[1;36m1.0\u001b[0m\u001b[1;33m)\u001b[0m\u001b[1;33m\u001b[0m\u001b[1;33m\u001b[0m\u001b[0m\n\u001b[1;32m----> 2\u001b[1;33m \u001b[0mcount2\u001b[0m \u001b[1;33m=\u001b[0m \u001b[0mCountVectorizer\u001b[0m\u001b[1;33m(\u001b[0m\u001b[0mvocabulary\u001b[0m\u001b[1;33m=\u001b[0m\u001b[1;33m(\u001b[0m\u001b[0mvocab\u001b[0m\u001b[1;33m)\u001b[0m\u001b[1;33m)\u001b[0m\u001b[1;33m\u001b[0m\u001b[1;33m\u001b[0m\u001b[0m\n\u001b[0m\u001b[0;32m      3\u001b[0m \u001b[0mX\u001b[0m \u001b[1;33m=\u001b[0m \u001b[0mcount\u001b[0m\u001b[1;33m.\u001b[0m\u001b[0mfit_transform\u001b[0m\u001b[1;33m(\u001b[0m\u001b[0mdataset\u001b[0m\u001b[1;33m[\u001b[0m\u001b[1;34m'review'\u001b[0m\u001b[1;33m]\u001b[0m\u001b[1;33m)\u001b[0m\u001b[1;33m\u001b[0m\u001b[1;33m\u001b[0m\u001b[0m\n\u001b[0;32m      4\u001b[0m \u001b[0mXX\u001b[0m \u001b[1;33m=\u001b[0m \u001b[0mcount2\u001b[0m\u001b[1;33m.\u001b[0m\u001b[0mfit_transform\u001b[0m\u001b[1;33m(\u001b[0m\u001b[0mdataset\u001b[0m\u001b[1;33m[\u001b[0m\u001b[1;34m'review'\u001b[0m\u001b[1;33m]\u001b[0m\u001b[1;33m)\u001b[0m\u001b[1;33m\u001b[0m\u001b[1;33m\u001b[0m\u001b[0m\n\u001b[0;32m      5\u001b[0m \u001b[0mx1\u001b[0m \u001b[1;33m=\u001b[0m  \u001b[0mcount\u001b[0m\u001b[1;33m.\u001b[0m\u001b[0mvocabulary_\u001b[0m\u001b[1;33m\u001b[0m\u001b[1;33m\u001b[0m\u001b[0m\n",
      "\u001b[1;31mNameError\u001b[0m: name 'vocab' is not defined"
     ]
    }
   ],
   "source": [
    "count = CountVectorizer(max_df=1.0)\n",
    "count2 = CountVectorizer(vocabulary=(vocab))\n",
    "X = count.fit_transform(dataset['review'])\n",
    "XX = count2.fit_transform(dataset['review'])\n",
    "x1 =  count.vocabulary_\n",
    "x2 = count2.vocabulary_\n",
    "# yes = []\n",
    "# no = []\n",
    "# for word in vocab:\n",
    "#     if word not in x1:\n",
    "#         no.append(word)\n",
    "#     else:\n",
    "#         yes.append(word)"
   ]
  },
  {
   "cell_type": "code",
   "execution_count": 13,
   "metadata": {},
   "outputs": [
    {
     "output_type": "execute_result",
     "data": {
      "text/plain": [
       "(1000, 17906)"
      ]
     },
     "metadata": {},
     "execution_count": 13
    }
   ],
   "source": [
    "X.shape"
   ]
  },
  {
   "cell_type": "code",
   "execution_count": 7,
   "metadata": {},
   "outputs": [],
   "source": [
    "tfidf = TfidfTransformer()"
   ]
  },
  {
   "cell_type": "code",
   "execution_count": 8,
   "metadata": {},
   "outputs": [],
   "source": [
    "X = tfidf.fit_transform(X)"
   ]
  },
  {
   "cell_type": "code",
   "execution_count": 9,
   "metadata": {},
   "outputs": [
    {
     "output_type": "execute_result",
     "data": {
      "text/plain": [
       "(1000, 17625)"
      ]
     },
     "metadata": {},
     "execution_count": 9
    }
   ],
   "source": [
    "X.shape"
   ]
  },
  {
   "cell_type": "code",
   "execution_count": 10,
   "metadata": {},
   "outputs": [],
   "source": [
    "X_train, X_test, y_train, y_test = train_test_split(X, dataset['sentiment'], test_size=0.33)"
   ]
  },
  {
   "cell_type": "code",
   "execution_count": 11,
   "metadata": {},
   "outputs": [
    {
     "output_type": "execute_result",
     "data": {
      "text/plain": [
       "(670, 17625)"
      ]
     },
     "metadata": {},
     "execution_count": 11
    }
   ],
   "source": [
    "X_train.shape"
   ]
  },
  {
   "cell_type": "code",
   "execution_count": 12,
   "metadata": {},
   "outputs": [
    {
     "output_type": "execute_result",
     "data": {
      "text/plain": [
       "(330, 17625)"
      ]
     },
     "metadata": {},
     "execution_count": 12
    }
   ],
   "source": [
    "X_test.shape"
   ]
  },
  {
   "source": [
    "model = MLPClassifier(max_iter=300)\n",
    "model.fit(X_train, y_train)"
   ],
   "cell_type": "code",
   "metadata": {},
   "execution_count": 13,
   "outputs": [
    {
     "output_type": "execute_result",
     "data": {
      "text/plain": [
       "MLPClassifier(max_iter=300)"
      ]
     },
     "metadata": {},
     "execution_count": 13
    }
   ]
  },
  {
   "cell_type": "code",
   "execution_count": 14,
   "metadata": {},
   "outputs": [
    {
     "output_type": "execute_result",
     "data": {
      "text/plain": [
       "0.8181818181818182"
      ]
     },
     "metadata": {},
     "execution_count": 14
    }
   ],
   "source": [
    "model.score(X_test, y_test)"
   ]
  },
  {
   "cell_type": "code",
   "execution_count": 15,
   "metadata": {},
   "outputs": [
    {
     "output_type": "execute_result",
     "data": {
      "text/plain": [
       "0.8181283835007063"
      ]
     },
     "metadata": {},
     "execution_count": 15
    }
   ],
   "source": [
    "y_pred = model.predict(X_test)\n",
    "f1_score(y_test, y_pred, average='weighted')"
   ]
  },
  {
   "cell_type": "code",
   "execution_count": null,
   "metadata": {},
   "outputs": [],
   "source": []
  }
 ],
 "metadata": {
  "kernelspec": {
   "name": "python3",
   "display_name": "Python 3.8.5 64-bit (conda)",
   "metadata": {
    "interpreter": {
     "hash": "02b38c1e9d8457fc8a9166044201f23127e668c9d7c521fe59929b5819de802a"
    }
   }
  },
  "language_info": {
   "codemirror_mode": {
    "name": "ipython",
    "version": 3
   },
   "file_extension": ".py",
   "mimetype": "text/x-python",
   "name": "python",
   "nbconvert_exporter": "python",
   "pygments_lexer": "ipython3",
   "version": "3.8.5-final"
  }
 },
 "nbformat": 4,
 "nbformat_minor": 4
}